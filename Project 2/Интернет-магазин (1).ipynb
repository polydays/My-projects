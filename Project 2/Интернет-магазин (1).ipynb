{
 "cells": [
  {
   "cell_type": "markdown",
   "metadata": {},
   "source": [
    "# Анализ гипотез интернет-магазина"
   ]
  },
  {
   "cell_type": "markdown",
   "metadata": {},
   "source": [
    "Проект посвящен анализу способов увеличения выручки интернет-магазина с помощью анализа гипотез и A/В тестирования.\n",
    "\n",
    "Цель проекта - помочь интернет-магазину принять правильное решение по применению нужного метода для увелечения выручки магазина. \n",
    "\n",
    "Для достижения цели имеются 3 датафрейма: один со списком гипотез, один с информацией о заказах по группам А/В теста, и третий датафрейм о количестве пользователей в группе. \n",
    "\n",
    "Проект состоит из двух частей. В первой части была проанализирована приоритизация гипотез двумя фреймворками - ICE, RICE, рассмотрена разница результатов и сделаны выводы. Во второй части проекта был проведен А/В анализ: были построены необходимые графики, найдены перцентили, построены гипотезы о различии рузультатов двух групп. На основании теста был сделан вывод. "
   ]
  },
  {
   "cell_type": "markdown",
   "metadata": {},
   "source": [
    "***Часть 1***"
   ]
  },
  {
   "cell_type": "code",
   "execution_count": 1,
   "metadata": {},
   "outputs": [],
   "source": [
    "import pandas as pd\n",
    "import numpy as np\n",
    "import seaborn as sns\n",
    "from matplotlib import pyplot as plt\n",
    "import datetime as dt\n",
    "import scipy.stats as stats"
   ]
  },
  {
   "cell_type": "code",
   "execution_count": 3,
   "metadata": {},
   "outputs": [
    {
     "data": {
      "text/html": [
       "<div>\n",
       "<style scoped>\n",
       "    .dataframe tbody tr th:only-of-type {\n",
       "        vertical-align: middle;\n",
       "    }\n",
       "\n",
       "    .dataframe tbody tr th {\n",
       "        vertical-align: top;\n",
       "    }\n",
       "\n",
       "    .dataframe thead th {\n",
       "        text-align: right;\n",
       "    }\n",
       "</style>\n",
       "<table border=\"1\" class=\"dataframe\">\n",
       "  <thead>\n",
       "    <tr style=\"text-align: right;\">\n",
       "      <th></th>\n",
       "      <th>Hypothesis</th>\n",
       "      <th>Reach</th>\n",
       "      <th>Impact</th>\n",
       "      <th>Confidence</th>\n",
       "      <th>Efforts</th>\n",
       "    </tr>\n",
       "  </thead>\n",
       "  <tbody>\n",
       "    <tr>\n",
       "      <th>0</th>\n",
       "      <td>Добавить два новых канала привлечения трафика, что позволит привлекать на 30% больше пользователей</td>\n",
       "      <td>3</td>\n",
       "      <td>10</td>\n",
       "      <td>8</td>\n",
       "      <td>6</td>\n",
       "    </tr>\n",
       "    <tr>\n",
       "      <th>1</th>\n",
       "      <td>Запустить собственную службу доставки, что сократит срок доставки заказов</td>\n",
       "      <td>2</td>\n",
       "      <td>5</td>\n",
       "      <td>4</td>\n",
       "      <td>10</td>\n",
       "    </tr>\n",
       "    <tr>\n",
       "      <th>2</th>\n",
       "      <td>Добавить блоки рекомендаций товаров на сайт интернет магазина, чтобы повысить конверсию и средний чек заказа</td>\n",
       "      <td>8</td>\n",
       "      <td>3</td>\n",
       "      <td>7</td>\n",
       "      <td>3</td>\n",
       "    </tr>\n",
       "    <tr>\n",
       "      <th>3</th>\n",
       "      <td>Изменить структура категорий, что увеличит конверсию, т.к. пользователи быстрее найдут нужный товар</td>\n",
       "      <td>8</td>\n",
       "      <td>3</td>\n",
       "      <td>3</td>\n",
       "      <td>8</td>\n",
       "    </tr>\n",
       "    <tr>\n",
       "      <th>4</th>\n",
       "      <td>Изменить цвет фона главной страницы, чтобы увеличить вовлеченность пользователей</td>\n",
       "      <td>3</td>\n",
       "      <td>1</td>\n",
       "      <td>1</td>\n",
       "      <td>1</td>\n",
       "    </tr>\n",
       "    <tr>\n",
       "      <th>5</th>\n",
       "      <td>Добавить страницу отзывов клиентов о магазине, что позволит увеличить количество заказов</td>\n",
       "      <td>3</td>\n",
       "      <td>2</td>\n",
       "      <td>2</td>\n",
       "      <td>3</td>\n",
       "    </tr>\n",
       "    <tr>\n",
       "      <th>6</th>\n",
       "      <td>Показать на главной странице баннеры с актуальными акциями и распродажами, чтобы увеличить конверсию</td>\n",
       "      <td>5</td>\n",
       "      <td>3</td>\n",
       "      <td>8</td>\n",
       "      <td>3</td>\n",
       "    </tr>\n",
       "    <tr>\n",
       "      <th>7</th>\n",
       "      <td>Добавить форму подписки на все основные страницы, чтобы собрать базу клиентов для email-рассылок</td>\n",
       "      <td>10</td>\n",
       "      <td>7</td>\n",
       "      <td>8</td>\n",
       "      <td>5</td>\n",
       "    </tr>\n",
       "    <tr>\n",
       "      <th>8</th>\n",
       "      <td>Запустить акцию, дающую скидку на товар в день рождения</td>\n",
       "      <td>1</td>\n",
       "      <td>9</td>\n",
       "      <td>9</td>\n",
       "      <td>5</td>\n",
       "    </tr>\n",
       "  </tbody>\n",
       "</table>\n",
       "</div>"
      ],
      "text/plain": [
       "                                                                                                     Hypothesis  \\\n",
       "0            Добавить два новых канала привлечения трафика, что позволит привлекать на 30% больше пользователей   \n",
       "1                                     Запустить собственную службу доставки, что сократит срок доставки заказов   \n",
       "2  Добавить блоки рекомендаций товаров на сайт интернет магазина, чтобы повысить конверсию и средний чек заказа   \n",
       "3           Изменить структура категорий, что увеличит конверсию, т.к. пользователи быстрее найдут нужный товар   \n",
       "4                              Изменить цвет фона главной страницы, чтобы увеличить вовлеченность пользователей   \n",
       "5                      Добавить страницу отзывов клиентов о магазине, что позволит увеличить количество заказов   \n",
       "6          Показать на главной странице баннеры с актуальными акциями и распродажами, чтобы увеличить конверсию   \n",
       "7              Добавить форму подписки на все основные страницы, чтобы собрать базу клиентов для email-рассылок   \n",
       "8                                                       Запустить акцию, дающую скидку на товар в день рождения   \n",
       "\n",
       "   Reach  Impact  Confidence  Efforts  \n",
       "0      3      10           8        6  \n",
       "1      2       5           4       10  \n",
       "2      8       3           7        3  \n",
       "3      8       3           3        8  \n",
       "4      3       1           1        1  \n",
       "5      3       2           2        3  \n",
       "6      5       3           8        3  \n",
       "7     10       7           8        5  \n",
       "8      1       9           9        5  "
      ]
     },
     "execution_count": 3,
     "metadata": {},
     "output_type": "execute_result"
    }
   ],
   "source": [
    "hypothesis = pd.read_csv('https://code.s3.yandex.net/datasets/hypothesis.csv')\n",
    "pd.options.display.max_colwidth = 130\n",
    "hypothesis"
   ]
  },
  {
   "cell_type": "code",
   "execution_count": 4,
   "metadata": {},
   "outputs": [
    {
     "data": {
      "text/html": [
       "<div>\n",
       "<style scoped>\n",
       "    .dataframe tbody tr th:only-of-type {\n",
       "        vertical-align: middle;\n",
       "    }\n",
       "\n",
       "    .dataframe tbody tr th {\n",
       "        vertical-align: top;\n",
       "    }\n",
       "\n",
       "    .dataframe thead th {\n",
       "        text-align: right;\n",
       "    }\n",
       "</style>\n",
       "<table border=\"1\" class=\"dataframe\">\n",
       "  <thead>\n",
       "    <tr style=\"text-align: right;\">\n",
       "      <th></th>\n",
       "      <th>Hypothesis</th>\n",
       "      <th>ICE</th>\n",
       "    </tr>\n",
       "  </thead>\n",
       "  <tbody>\n",
       "    <tr>\n",
       "      <th>8</th>\n",
       "      <td>Запустить акцию, дающую скидку на товар в день рождения</td>\n",
       "      <td>16.200000</td>\n",
       "    </tr>\n",
       "    <tr>\n",
       "      <th>0</th>\n",
       "      <td>Добавить два новых канала привлечения трафика, что позволит привлекать на 30% больше пользователей</td>\n",
       "      <td>13.333333</td>\n",
       "    </tr>\n",
       "    <tr>\n",
       "      <th>7</th>\n",
       "      <td>Добавить форму подписки на все основные страницы, чтобы собрать базу клиентов для email-рассылок</td>\n",
       "      <td>11.200000</td>\n",
       "    </tr>\n",
       "    <tr>\n",
       "      <th>6</th>\n",
       "      <td>Показать на главной странице баннеры с актуальными акциями и распродажами, чтобы увеличить конверсию</td>\n",
       "      <td>8.000000</td>\n",
       "    </tr>\n",
       "    <tr>\n",
       "      <th>2</th>\n",
       "      <td>Добавить блоки рекомендаций товаров на сайт интернет магазина, чтобы повысить конверсию и средний чек заказа</td>\n",
       "      <td>7.000000</td>\n",
       "    </tr>\n",
       "    <tr>\n",
       "      <th>1</th>\n",
       "      <td>Запустить собственную службу доставки, что сократит срок доставки заказов</td>\n",
       "      <td>2.000000</td>\n",
       "    </tr>\n",
       "    <tr>\n",
       "      <th>5</th>\n",
       "      <td>Добавить страницу отзывов клиентов о магазине, что позволит увеличить количество заказов</td>\n",
       "      <td>1.333333</td>\n",
       "    </tr>\n",
       "    <tr>\n",
       "      <th>3</th>\n",
       "      <td>Изменить структура категорий, что увеличит конверсию, т.к. пользователи быстрее найдут нужный товар</td>\n",
       "      <td>1.125000</td>\n",
       "    </tr>\n",
       "    <tr>\n",
       "      <th>4</th>\n",
       "      <td>Изменить цвет фона главной страницы, чтобы увеличить вовлеченность пользователей</td>\n",
       "      <td>1.000000</td>\n",
       "    </tr>\n",
       "  </tbody>\n",
       "</table>\n",
       "</div>"
      ],
      "text/plain": [
       "                                                                                                     Hypothesis  \\\n",
       "8                                                       Запустить акцию, дающую скидку на товар в день рождения   \n",
       "0            Добавить два новых канала привлечения трафика, что позволит привлекать на 30% больше пользователей   \n",
       "7              Добавить форму подписки на все основные страницы, чтобы собрать базу клиентов для email-рассылок   \n",
       "6          Показать на главной странице баннеры с актуальными акциями и распродажами, чтобы увеличить конверсию   \n",
       "2  Добавить блоки рекомендаций товаров на сайт интернет магазина, чтобы повысить конверсию и средний чек заказа   \n",
       "1                                     Запустить собственную службу доставки, что сократит срок доставки заказов   \n",
       "5                      Добавить страницу отзывов клиентов о магазине, что позволит увеличить количество заказов   \n",
       "3           Изменить структура категорий, что увеличит конверсию, т.к. пользователи быстрее найдут нужный товар   \n",
       "4                              Изменить цвет фона главной страницы, чтобы увеличить вовлеченность пользователей   \n",
       "\n",
       "         ICE  \n",
       "8  16.200000  \n",
       "0  13.333333  \n",
       "7  11.200000  \n",
       "6   8.000000  \n",
       "2   7.000000  \n",
       "1   2.000000  \n",
       "5   1.333333  \n",
       "3   1.125000  \n",
       "4   1.000000  "
      ]
     },
     "metadata": {},
     "output_type": "display_data"
    }
   ],
   "source": [
    "#Применим ICE для приоритизации гипотез\n",
    "hypothesis['ICE'] = hypothesis['Impact'] * hypothesis['Confidence'] / hypothesis['Efforts'] \n",
    "\n",
    "display((hypothesis[['Hypothesis', 'ICE']].sort_values(by='ICE', ascending=False)))"
   ]
  },
  {
   "cell_type": "markdown",
   "metadata": {},
   "source": [
    "По фреймворку IСE наиболее приоритетной гипотезой является гипотеза №8 - Запустить акцию, дающую скидку на товар в день рождения. Также приоритетными являются:\n",
    "\n",
    "0 - Добавить два новых канала привлечения трафика, что позволит привлекать на 30% больше пользователей\n",
    "\n",
    "7 - Добавить форму подписки на все основные страницы, чтобы собрать базу клиентов для email-рассылок"
   ]
  },
  {
   "cell_type": "code",
   "execution_count": 5,
   "metadata": {},
   "outputs": [
    {
     "data": {
      "text/html": [
       "<div>\n",
       "<style scoped>\n",
       "    .dataframe tbody tr th:only-of-type {\n",
       "        vertical-align: middle;\n",
       "    }\n",
       "\n",
       "    .dataframe tbody tr th {\n",
       "        vertical-align: top;\n",
       "    }\n",
       "\n",
       "    .dataframe thead th {\n",
       "        text-align: right;\n",
       "    }\n",
       "</style>\n",
       "<table border=\"1\" class=\"dataframe\">\n",
       "  <thead>\n",
       "    <tr style=\"text-align: right;\">\n",
       "      <th></th>\n",
       "      <th>Hypothesis</th>\n",
       "      <th>RICE</th>\n",
       "    </tr>\n",
       "  </thead>\n",
       "  <tbody>\n",
       "    <tr>\n",
       "      <th>7</th>\n",
       "      <td>Добавить форму подписки на все основные страницы, чтобы собрать базу клиентов для email-рассылок</td>\n",
       "      <td>112.0</td>\n",
       "    </tr>\n",
       "    <tr>\n",
       "      <th>2</th>\n",
       "      <td>Добавить блоки рекомендаций товаров на сайт интернет магазина, чтобы повысить конверсию и средний чек заказа</td>\n",
       "      <td>56.0</td>\n",
       "    </tr>\n",
       "    <tr>\n",
       "      <th>0</th>\n",
       "      <td>Добавить два новых канала привлечения трафика, что позволит привлекать на 30% больше пользователей</td>\n",
       "      <td>40.0</td>\n",
       "    </tr>\n",
       "    <tr>\n",
       "      <th>6</th>\n",
       "      <td>Показать на главной странице баннеры с актуальными акциями и распродажами, чтобы увеличить конверсию</td>\n",
       "      <td>40.0</td>\n",
       "    </tr>\n",
       "    <tr>\n",
       "      <th>8</th>\n",
       "      <td>Запустить акцию, дающую скидку на товар в день рождения</td>\n",
       "      <td>16.2</td>\n",
       "    </tr>\n",
       "    <tr>\n",
       "      <th>3</th>\n",
       "      <td>Изменить структура категорий, что увеличит конверсию, т.к. пользователи быстрее найдут нужный товар</td>\n",
       "      <td>9.0</td>\n",
       "    </tr>\n",
       "    <tr>\n",
       "      <th>1</th>\n",
       "      <td>Запустить собственную службу доставки, что сократит срок доставки заказов</td>\n",
       "      <td>4.0</td>\n",
       "    </tr>\n",
       "    <tr>\n",
       "      <th>5</th>\n",
       "      <td>Добавить страницу отзывов клиентов о магазине, что позволит увеличить количество заказов</td>\n",
       "      <td>4.0</td>\n",
       "    </tr>\n",
       "    <tr>\n",
       "      <th>4</th>\n",
       "      <td>Изменить цвет фона главной страницы, чтобы увеличить вовлеченность пользователей</td>\n",
       "      <td>3.0</td>\n",
       "    </tr>\n",
       "  </tbody>\n",
       "</table>\n",
       "</div>"
      ],
      "text/plain": [
       "                                                                                                     Hypothesis  \\\n",
       "7              Добавить форму подписки на все основные страницы, чтобы собрать базу клиентов для email-рассылок   \n",
       "2  Добавить блоки рекомендаций товаров на сайт интернет магазина, чтобы повысить конверсию и средний чек заказа   \n",
       "0            Добавить два новых канала привлечения трафика, что позволит привлекать на 30% больше пользователей   \n",
       "6          Показать на главной странице баннеры с актуальными акциями и распродажами, чтобы увеличить конверсию   \n",
       "8                                                       Запустить акцию, дающую скидку на товар в день рождения   \n",
       "3           Изменить структура категорий, что увеличит конверсию, т.к. пользователи быстрее найдут нужный товар   \n",
       "1                                     Запустить собственную службу доставки, что сократит срок доставки заказов   \n",
       "5                      Добавить страницу отзывов клиентов о магазине, что позволит увеличить количество заказов   \n",
       "4                              Изменить цвет фона главной страницы, чтобы увеличить вовлеченность пользователей   \n",
       "\n",
       "    RICE  \n",
       "7  112.0  \n",
       "2   56.0  \n",
       "0   40.0  \n",
       "6   40.0  \n",
       "8   16.2  \n",
       "3    9.0  \n",
       "1    4.0  \n",
       "5    4.0  \n",
       "4    3.0  "
      ]
     },
     "metadata": {},
     "output_type": "display_data"
    }
   ],
   "source": [
    "#Применим RICE для приоритизации гипотез\n",
    "hypothesis['RICE'] = hypothesis['Impact'] * hypothesis['Confidence'] * hypothesis['Reach']/ hypothesis['Efforts']\n",
    "\n",
    "display(hypothesis[['Hypothesis', 'RICE']].sort_values(by='RICE', ascending=False))"
   ]
  },
  {
   "cell_type": "markdown",
   "metadata": {},
   "source": [
    "По фреймворку RICE наиболее приоритными гипотезами 7, 2, 0 и 6\n",
    "\n",
    "Добавить форму подписки на все основные страницы, чтобы собрать базу клиентов для email-рассылок\n",
    "\n",
    "Добавить блоки рекомендаций товаров на сайт интернет магазина, чтобы повысить конверсию и средний чек заказа\t\n",
    "\n",
    "Добавить два новых канала привлечения трафика, что позволит привлекать на 30% больше пользователей\n",
    "\n",
    "Показать на главной странице баннеры с актуальными акциями и распродажами, чтобы увеличить конверсию"
   ]
  },
  {
   "cell_type": "markdown",
   "metadata": {},
   "source": [
    "Приоритетность гипотез в зависимости от разных подходов сильно изменилась. Однако гипотеза №7 и №0 вошли в топ-3 в обоих случаях. А гипотеза №8, которая возглавляла список в ICE, опустилась на пятое место в RICE, поменявшись местами с гипотезой №2. Очевидно это связано с показателем Reach, который показывает скольких пользователей затронет изменение, которое мы хотим внести. Переменность гипотез означает, что гипотезы 7, 2 и 0 затронут наибольшее количество пользователей. Значит, можно сделать вывод, что нужно точно протестировать гипотезу №7:\n",
    "\n",
    "Добавить форму подписки на все основные страницы, чтобы собрать базу клиентов для email-рассылок\n",
    "\n",
    "Возможно также стоит рассмаотреть гипотезу №2 и №0:\n",
    "\n",
    "Добавить блоки рекомендаций товаров на сайт интернет магазина, чтобы повысить конверсию и средний чек заказа\n",
    "\n",
    "Добавить два новых канала привлечения трафика, что позволит привлекать на 30% больше пользователей"
   ]
  },
  {
   "cell_type": "markdown",
   "metadata": {},
   "source": [
    "***Часть 2***"
   ]
  },
  {
   "cell_type": "code",
   "execution_count": 6,
   "metadata": {},
   "outputs": [],
   "source": [
    "orders = pd.read_csv('/datasets/orders.csv')\n",
    "visitors = pd.read_csv('/datasets/visitors.csv')"
   ]
  },
  {
   "cell_type": "code",
   "execution_count": 7,
   "metadata": {},
   "outputs": [
    {
     "name": "stdout",
     "output_type": "stream",
     "text": [
      "<class 'pandas.core.frame.DataFrame'>\n",
      "RangeIndex: 1197 entries, 0 to 1196\n",
      "Data columns (total 5 columns):\n",
      " #   Column         Non-Null Count  Dtype \n",
      "---  ------         --------------  ----- \n",
      " 0   transactionId  1197 non-null   int64 \n",
      " 1   visitorId      1197 non-null   int64 \n",
      " 2   date           1197 non-null   object\n",
      " 3   revenue        1197 non-null   int64 \n",
      " 4   group          1197 non-null   object\n",
      "dtypes: int64(3), object(2)\n",
      "memory usage: 46.9+ KB\n",
      "None\n",
      "<class 'pandas.core.frame.DataFrame'>\n",
      "RangeIndex: 62 entries, 0 to 61\n",
      "Data columns (total 3 columns):\n",
      " #   Column    Non-Null Count  Dtype \n",
      "---  ------    --------------  ----- \n",
      " 0   date      62 non-null     object\n",
      " 1   group     62 non-null     object\n",
      " 2   visitors  62 non-null     int64 \n",
      "dtypes: int64(1), object(2)\n",
      "memory usage: 1.6+ KB\n"
     ]
    }
   ],
   "source": [
    "print(orders.info())\n",
    "visitors.info()"
   ]
  },
  {
   "cell_type": "code",
   "execution_count": 8,
   "metadata": {},
   "outputs": [],
   "source": [
    "#Изменим тип данных в столбцах с датой\n",
    "orders['date'] = orders['date'].map(lambda x: dt.datetime.strptime(x, '%Y-%m-%d'))\n",
    "visitors['date'] = visitors['date'].map(lambda x: dt.datetime.strptime(x, '%Y-%m-%d'))"
   ]
  },
  {
   "cell_type": "code",
   "execution_count": 9,
   "metadata": {},
   "outputs": [
    {
     "name": "stdout",
     "output_type": "stream",
     "text": [
      "transactionId    0\n",
      "visitorId        0\n",
      "date             0\n",
      "revenue          0\n",
      "group            0\n",
      "dtype: int64\n"
     ]
    },
    {
     "data": {
      "text/plain": [
       "date        0\n",
       "group       0\n",
       "visitors    0\n",
       "dtype: int64"
      ]
     },
     "execution_count": 9,
     "metadata": {},
     "output_type": "execute_result"
    }
   ],
   "source": [
    "#проверим данные на пропуски\n",
    "print(orders.isna().sum())\n",
    "visitors.isna().sum()"
   ]
  },
  {
   "cell_type": "code",
   "execution_count": 10,
   "metadata": {},
   "outputs": [
    {
     "name": "stdout",
     "output_type": "stream",
     "text": [
      "0\n"
     ]
    },
    {
     "data": {
      "text/plain": [
       "0"
      ]
     },
     "execution_count": 10,
     "metadata": {},
     "output_type": "execute_result"
    }
   ],
   "source": [
    "#Проверим данные на дубликаты\n",
    "print(orders.duplicated().sum())\n",
    "visitors.duplicated().sum()"
   ]
  },
  {
   "cell_type": "code",
   "execution_count": 11,
   "metadata": {},
   "outputs": [
    {
     "name": "stdout",
     "output_type": "stream",
     "text": [
      "['B' 'A']\n"
     ]
    },
    {
     "data": {
      "text/plain": [
       "array(['A', 'B'], dtype=object)"
      ]
     },
     "execution_count": 11,
     "metadata": {},
     "output_type": "execute_result"
    }
   ],
   "source": [
    "#Проверим данные на неявные дубликаты\n",
    "print(orders['group'].unique())\n",
    "visitors['group'].unique()"
   ]
  },
  {
   "cell_type": "markdown",
   "metadata": {},
   "source": [
    "Данные готовы к анализу"
   ]
  },
  {
   "cell_type": "markdown",
   "metadata": {},
   "source": [
    "***Задача 1 - график кумулятивной выручки по группам***"
   ]
  },
  {
   "cell_type": "code",
   "execution_count": 12,
   "metadata": {},
   "outputs": [
    {
     "data": {
      "text/plain": [
       "Text(0.5, 1.0, 'Куммулятивная выручка по группам')"
      ]
     },
     "execution_count": 12,
     "metadata": {},
     "output_type": "execute_result"
    },
    {
     "data": {
      "image/png": "[encoded data removed]",
      "text/plain": [
       "<Figure size 720x288 with 1 Axes>"
      ]
     },
     "metadata": {
      "needs_background": "light"
     },
     "output_type": "display_data"
    }
   ],
   "source": [
    "# создаем массив уникальных пар значений дат и групп теста\n",
    "datesGroups = orders[['date','group']].drop_duplicates() \n",
    "\n",
    "# получаем агрегированные кумулятивные по дням данные о заказах \n",
    "ordersAggregated = datesGroups.apply(lambda x: orders[np.logical_and(orders['date'] <= x['date'], orders['group'] == x['group'])].agg({'date' : 'max', 'group' : 'max', 'visitorId' : 'nunique', 'transactionId' : 'nunique', 'revenue' : 'sum'}), axis=1).sort_values(by=['date','group'])\n",
    "\n",
    "# получаем агрегированные кумулятивные по дням данные о посетителях интернет-магазина \n",
    "visitorsAggregated = datesGroups.apply(lambda x: visitors[np.logical_and(visitors['date'] <= x['date'], visitors['group'] == x['group'])].agg({'date' : 'max', 'group' : 'max', 'visitors' : 'sum'}), axis=1).sort_values(by=['date','group'])\n",
    "\n",
    "# объединяем кумулятивные данные в одной таблице и присваиваем ее столбцам понятные названия\n",
    "cumulativeData = ordersAggregated.merge(visitorsAggregated, left_on=['date', 'group'], right_on=['date', 'group'])\n",
    "cumulativeData.columns = ['date', 'group', 'buyers', 'orders', 'revenue', 'visitors']\n",
    "\n",
    "# датафрейм с кумулятивным количеством заказов и кумулятивной выручкой по дням в группе А\n",
    "cumulativeRevenueA = cumulativeData[cumulativeData['group']=='A'][['date','revenue', 'orders']]\n",
    "\n",
    "# датафрейм с кумулятивным количеством заказов и кумулятивной выручкой по дням в группе B\n",
    "cumulativeRevenueB = cumulativeData[cumulativeData['group']=='B'][['date','revenue', 'orders']]\n",
    "\n",
    "plt.figure(figsize=(10,4))\n",
    "# Строим график выручки группы А\n",
    "plt.plot(cumulativeRevenueA['date'], cumulativeRevenueA['revenue'], label='A')\n",
    "\n",
    "# Строим график выручки группы B\n",
    "plt.plot(cumulativeRevenueB['date'], cumulativeRevenueB['revenue'], label='B')\n",
    "plt.legend()\n",
    "plt.grid()\n",
    "plt.xlabel('Дата')\n",
    "plt.ylabel('Выручка')\n",
    "plt.title('Куммулятивная выручка по группам')"
   ]
  },
  {
   "cell_type": "markdown",
   "metadata": {},
   "source": [
    "Вывод: Куммулятивная выручка группы В явно повышается стабильнее и выше, чем группа А. Резкий скачок выручки у группы В произошел после 17 августа 2019, возможно это связано с увеличением заказов в эти даты. Однако стоит проверить на случай выбросов. "
   ]
  },
  {
   "cell_type": "code",
   "execution_count": 13,
   "metadata": {},
   "outputs": [
    {
     "data": {
      "text/html": [
       "<div>\n",
       "<style scoped>\n",
       "    .dataframe tbody tr th:only-of-type {\n",
       "        vertical-align: middle;\n",
       "    }\n",
       "\n",
       "    .dataframe tbody tr th {\n",
       "        vertical-align: top;\n",
       "    }\n",
       "\n",
       "    .dataframe thead th {\n",
       "        text-align: right;\n",
       "    }\n",
       "</style>\n",
       "<table border=\"1\" class=\"dataframe\">\n",
       "  <thead>\n",
       "    <tr style=\"text-align: right;\">\n",
       "      <th></th>\n",
       "      <th>transactionId</th>\n",
       "      <th>visitorId</th>\n",
       "      <th>date</th>\n",
       "      <th>revenue</th>\n",
       "      <th>group</th>\n",
       "    </tr>\n",
       "  </thead>\n",
       "  <tbody>\n",
       "    <tr>\n",
       "      <th>425</th>\n",
       "      <td>590470918</td>\n",
       "      <td>1920142716</td>\n",
       "      <td>2019-08-19</td>\n",
       "      <td>1294500</td>\n",
       "      <td>B</td>\n",
       "    </tr>\n",
       "    <tr>\n",
       "      <th>530</th>\n",
       "      <td>3970235543</td>\n",
       "      <td>2912540959</td>\n",
       "      <td>2019-08-19</td>\n",
       "      <td>43990</td>\n",
       "      <td>A</td>\n",
       "    </tr>\n",
       "    <tr>\n",
       "      <th>751</th>\n",
       "      <td>348143148</td>\n",
       "      <td>689129267</td>\n",
       "      <td>2019-08-20</td>\n",
       "      <td>37150</td>\n",
       "      <td>B</td>\n",
       "    </tr>\n",
       "    <tr>\n",
       "      <th>527</th>\n",
       "      <td>1570513684</td>\n",
       "      <td>2837914161</td>\n",
       "      <td>2019-08-19</td>\n",
       "      <td>33405</td>\n",
       "      <td>B</td>\n",
       "    </tr>\n",
       "    <tr>\n",
       "      <th>421</th>\n",
       "      <td>3765974140</td>\n",
       "      <td>1357170471</td>\n",
       "      <td>2019-08-19</td>\n",
       "      <td>31680</td>\n",
       "      <td>A</td>\n",
       "    </tr>\n",
       "    <tr>\n",
       "      <th>461</th>\n",
       "      <td>2683113224</td>\n",
       "      <td>154576532</td>\n",
       "      <td>2019-08-19</td>\n",
       "      <td>26550</td>\n",
       "      <td>B</td>\n",
       "    </tr>\n",
       "    <tr>\n",
       "      <th>630</th>\n",
       "      <td>1329556473</td>\n",
       "      <td>2626290177</td>\n",
       "      <td>2019-08-20</td>\n",
       "      <td>25890</td>\n",
       "      <td>B</td>\n",
       "    </tr>\n",
       "    <tr>\n",
       "      <th>294</th>\n",
       "      <td>3709669952</td>\n",
       "      <td>3295038680</td>\n",
       "      <td>2019-08-18</td>\n",
       "      <td>23750</td>\n",
       "      <td>A</td>\n",
       "    </tr>\n",
       "    <tr>\n",
       "      <th>525</th>\n",
       "      <td>3031564664</td>\n",
       "      <td>393266494</td>\n",
       "      <td>2019-08-19</td>\n",
       "      <td>21550</td>\n",
       "      <td>A</td>\n",
       "    </tr>\n",
       "    <tr>\n",
       "      <th>368</th>\n",
       "      <td>3268879337</td>\n",
       "      <td>2536252163</td>\n",
       "      <td>2019-08-19</td>\n",
       "      <td>20026</td>\n",
       "      <td>B</td>\n",
       "    </tr>\n",
       "  </tbody>\n",
       "</table>\n",
       "</div>"
      ],
      "text/plain": [
       "     transactionId   visitorId       date  revenue group\n",
       "425      590470918  1920142716 2019-08-19  1294500     B\n",
       "530     3970235543  2912540959 2019-08-19    43990     A\n",
       "751      348143148   689129267 2019-08-20    37150     B\n",
       "527     1570513684  2837914161 2019-08-19    33405     B\n",
       "421     3765974140  1357170471 2019-08-19    31680     A\n",
       "461     2683113224   154576532 2019-08-19    26550     B\n",
       "630     1329556473  2626290177 2019-08-20    25890     B\n",
       "294     3709669952  3295038680 2019-08-18    23750     A\n",
       "525     3031564664   393266494 2019-08-19    21550     A\n",
       "368     3268879337  2536252163 2019-08-19    20026     B"
      ]
     },
     "execution_count": 13,
     "metadata": {},
     "output_type": "execute_result"
    }
   ],
   "source": [
    "#Посмотрим суммы заказов в период скачка выручки\n",
    "orders.query('date < \"2019-08-21\"  and date > \"2019-08-17\"').sort_values(by='revenue', ascending=False).head(10)"
   ]
  },
  {
   "cell_type": "markdown",
   "metadata": {},
   "source": [
    "Действительно, в группе В выбивается один заказ, выручка с которого составила - 1294500. Данный заказ явно не является средним или типичным."
   ]
  },
  {
   "cell_type": "markdown",
   "metadata": {},
   "source": [
    "***Задача 2 - график кумулятивного среднего чека по группам***"
   ]
  },
  {
   "cell_type": "code",
   "execution_count": 14,
   "metadata": {},
   "outputs": [
    {
     "data": {
      "text/plain": [
       "Text(0.5, 1.0, 'Куммулятивный средний чек по группам')"
      ]
     },
     "execution_count": 14,
     "metadata": {},
     "output_type": "execute_result"
    },
    {
     "data": {
      "image/png": "[encoded data removed]",
      "text/plain": [
       "<Figure size 720x288 with 1 Axes>"
      ]
     },
     "metadata": {
      "needs_background": "light"
     },
     "output_type": "display_data"
    }
   ],
   "source": [
    "#Построим графики среднего чека по группам\n",
    "plt.figure(figsize=(10,4))\n",
    "plt.plot(cumulativeRevenueA['date'], cumulativeRevenueA['revenue']/cumulativeRevenueA['orders'], label='A')\n",
    "plt.plot(cumulativeRevenueB['date'], cumulativeRevenueB['revenue']/cumulativeRevenueB['orders'], label='B')\n",
    "plt.legend() \n",
    "plt.grid()\n",
    "plt.xlabel('Средний чек')\n",
    "plt.ylabel('Выручка')\n",
    "plt.title('Куммулятивный средний чек по группам')"
   ]
  },
  {
   "cell_type": "markdown",
   "metadata": {},
   "source": [
    "Вывод: Снова сильно виден рост группы В из-за заказа, указанного выше. В целом график напоминает предыдущий, однако наблюдается период в районе 13 августа, когда средний чек группы А был выше. Так же можно обратить внимание, что к концу периода средний чек группы А стабильно растет, а вот в группе В наоборот падает после большого заказа. "
   ]
  },
  {
   "cell_type": "markdown",
   "metadata": {},
   "source": [
    "***Задача 3 - график относительного изменения кумулятивного среднего чека группы B к группе A***"
   ]
  },
  {
   "cell_type": "code",
   "execution_count": 15,
   "metadata": {},
   "outputs": [
    {
     "data": {
      "text/plain": [
       "Text(0.5, 1.0, 'Изменение кумулятивного среднего чека группы В к группе А')"
      ]
     },
     "execution_count": 15,
     "metadata": {},
     "output_type": "execute_result"
    },
    {
     "data": {
      "image/png": "[encoded data removed]",
      "text/plain": [
       "<Figure size 720x288 with 1 Axes>"
      ]
     },
     "metadata": {
      "needs_background": "light"
     },
     "output_type": "display_data"
    }
   ],
   "source": [
    "# собираем данные в одном датафрейме\n",
    "mergedCumulativeRevenue = cumulativeRevenueA.merge(cumulativeRevenueB, left_on='date', right_on='date', how='left', suffixes=['A', 'B'])\n",
    "\n",
    "plt.figure(figsize=(10,4))\n",
    "# cтроим отношение средних чеков\n",
    "plt.plot(mergedCumulativeRevenue['date'], (mergedCumulativeRevenue['revenueB']/mergedCumulativeRevenue['ordersB'])/(mergedCumulativeRevenue['revenueA']/mergedCumulativeRevenue['ordersA'])-1)\n",
    "\n",
    "# добавляем ось X\n",
    "plt.axhline(y=0, color='black', linestyle='--') \n",
    "plt.grid()\n",
    "plt.xlabel('Изменение')\n",
    "plt.ylabel('Выручка')\n",
    "plt.title('Изменение кумулятивного среднего чека группы В к группе А')"
   ]
  },
  {
   "cell_type": "markdown",
   "metadata": {},
   "source": [
    "Вывод: В целом график показывает относительно схожие выводы, как и в предвдущем. Куммулятивный средний чек группы В чаще был больше, спад наблюдается в районе 9 августа и продолжается до 13 августа, в эти даты средний чек группы А был больше. Однако в дальнейшем видно преимущество чека группы В, хотя после 19 августа(крупного заказа) наблюдается постепенный спад."
   ]
  },
  {
   "cell_type": "markdown",
   "metadata": {},
   "source": [
    "***Задача 4 - график кумулятивного среднего количества заказов на посетителя по группам.***"
   ]
  },
  {
   "cell_type": "code",
   "execution_count": 16,
   "metadata": {},
   "outputs": [
    {
     "data": {
      "text/plain": [
       "Text(0.5, 1.0, 'Куммулятивное среднее количество заказов на посетителя')"
      ]
     },
     "execution_count": 16,
     "metadata": {},
     "output_type": "execute_result"
    },
    {
     "data": {
      "image/png": "[encoded data removed]",
      "text/plain": [
       "<Figure size 720x360 with 1 Axes>"
      ]
     },
     "metadata": {
      "needs_background": "light"
     },
     "output_type": "display_data"
    }
   ],
   "source": [
    "# считаем кумулятивную конверсию\n",
    "cumulativeData['conversion'] = cumulativeData['orders']/cumulativeData['visitors']\n",
    "\n",
    "# отделяем данные по группе A\n",
    "cumulativeDataA = cumulativeData[cumulativeData['group']=='A']\n",
    "\n",
    "# отделяем данные по группе B\n",
    "cumulativeDataB = cumulativeData[cumulativeData['group']=='B']\n",
    "\n",
    "# строим графики\n",
    "plt.figure(figsize=(10,5))\n",
    "plt.plot(cumulativeDataA['date'], cumulativeDataA['conversion'], label='A')\n",
    "plt.plot(cumulativeDataB['date'], cumulativeDataB['conversion'], label='B')\n",
    "plt.legend()\n",
    "plt.grid()\n",
    "plt.xlabel('Среднее количество заказов')\n",
    "plt.ylabel('Выручка')\n",
    "plt.title('Куммулятивное среднее количество заказов на посетителя')"
   ]
  },
  {
   "cell_type": "markdown",
   "metadata": {},
   "source": [
    "Вывод: Общая картина явно показывает преимущество коммулятивной конверсии группы В над А. Хотя в начале промежутка конверсии можно назвать схожими. Конверсия группы А достигла своего пика в промежутке между 1 и 6 августа и потом начала постепенно снижаться и снижалась до конца рассматриваемого периода. А конверсия группы В примерно с 4 августа начала рости."
   ]
  },
  {
   "cell_type": "markdown",
   "metadata": {},
   "source": [
    "***Задача 5 -  график относительного изменения кумулятивного среднего количества заказов на посетителя группы B к группе A***"
   ]
  },
  {
   "cell_type": "code",
   "execution_count": 17,
   "metadata": {},
   "outputs": [
    {
     "data": {
      "text/plain": [
       "Text(0.5, 1.0, 'Изменение кумулятивного среднего количества заказов на посетителя')"
      ]
     },
     "execution_count": 17,
     "metadata": {},
     "output_type": "execute_result"
    },
    {
     "data": {
      "image/png": "[encoded data removed]",
      "text/plain": [
       "<Figure size 720x360 with 1 Axes>"
      ]
     },
     "metadata": {
      "needs_background": "light"
     },
     "output_type": "display_data"
    }
   ],
   "source": [
    "mergedCumulativeConversions = cumulativeDataA[['date','conversion']].merge(cumulativeDataB[['date','conversion']], left_on='date', right_on='date', how='left', suffixes=['A', 'B'])\n",
    "\n",
    "plt.figure(figsize=(10,5))\n",
    "plt.plot(mergedCumulativeConversions['date'], mergedCumulativeConversions['conversionB']/mergedCumulativeConversions['conversionA']-1, label=\"Относительный прирост конверсии группы B относительно группы A\")\n",
    "plt.legend()\n",
    "plt.grid()\n",
    "\n",
    "plt.axhline(y=0, color='black', linestyle='--')\n",
    "plt.axhline(y=0.15, color='grey', linestyle='--')\n",
    "plt.xlabel('Дата')\n",
    "plt.ylabel('Изменение')\n",
    "plt.title('Изменение кумулятивного среднего количества заказов на посетителя')"
   ]
  },
  {
   "cell_type": "markdown",
   "metadata": {},
   "source": [
    "Вывод: В начале периода у обеих групп наблюдался сильный рост конверсии, что иллюстрирует пик на диаграмме после 1 августа. Однако после пика наблюдается сильный спад, который начинает снова расти примерно 3 августа и дальше постоянно растет. Наибольший прирост наблюдается после 13 августа и 17 августа. Далее прирост конверсии группы В относительно группы А постепенно снижается, но в последние дни снова берет курс на рост. "
   ]
  },
  {
   "cell_type": "markdown",
   "metadata": {},
   "source": [
    "***Задача 6 - точечный график количества заказов по пользователям*** "
   ]
  },
  {
   "cell_type": "code",
   "execution_count": 18,
   "metadata": {},
   "outputs": [
    {
     "data": {
      "text/plain": [
       "Text(0.5, 1.0, 'Количество заказов по пользователям')"
      ]
     },
     "execution_count": 18,
     "metadata": {},
     "output_type": "execute_result"
    },
    {
     "data": {
      "image/png": "[encoded data removed]",
      "text/plain": [
       "<Figure size 1080x360 with 1 Axes>"
      ]
     },
     "metadata": {
      "needs_background": "light"
     },
     "output_type": "display_data"
    }
   ],
   "source": [
    "ordersByUsers = (orders.groupby('visitorId', as_index=False).agg({'transactionId': 'nunique'}))\n",
    "\n",
    "ordersByUsers.columns = ['visitorId', 'orders']\n",
    "\n",
    "x_values = pd.Series(range(0,len(ordersByUsers)))\n",
    "plt.figure(figsize=(15,5))\n",
    "plt.scatter(x_values, ordersByUsers['orders']) \n",
    "plt.grid()\n",
    "plt.ylabel('Количество заказов')\n",
    "plt.title('Количество заказов по пользователям')"
   ]
  },
  {
   "cell_type": "markdown",
   "metadata": {},
   "source": [
    "Вывод: Большинство пользователей сделали 1 заказ, реже 2, езе реже 3 заказа. Количество заказов привышающих 3 лостаточно редко, однако встречаются и единичные пользователи, совершившие 8, 9 и даже больше 10 заказов. Но таких пользователей суммарно 4 человека. Очевидно, что пользователи с заказами больше 3 - аномальные значения."
   ]
  },
  {
   "cell_type": "markdown",
   "metadata": {},
   "source": [
    "***Задача 7 - 95-й и 99-й перцентили количества заказов на пользователя***"
   ]
  },
  {
   "cell_type": "code",
   "execution_count": 19,
   "metadata": {},
   "outputs": [
    {
     "data": {
      "text/plain": [
       "array([2., 4.])"
      ]
     },
     "execution_count": 19,
     "metadata": {},
     "output_type": "execute_result"
    }
   ],
   "source": [
    "np.percentile(ordersByUsers['orders'], [95, 99])"
   ]
  },
  {
   "cell_type": "markdown",
   "metadata": {},
   "source": [
    "Вывод: 95% пользователей совершили заказы не более 2 раз. Не более 5% пользователей оформили больше 2 заказов, и только 1% оформил больше 4 заказов. Значит, все пользователи, совершившие 3 и более заказов - выбросы."
   ]
  },
  {
   "cell_type": "markdown",
   "metadata": {},
   "source": [
    "***Задача 8 - точечный график стоимостей заказов***"
   ]
  },
  {
   "cell_type": "code",
   "execution_count": 20,
   "metadata": {},
   "outputs": [
    {
     "data": {
      "text/plain": [
       "Text(0.5, 1.0, 'Стоимости заказов')"
      ]
     },
     "execution_count": 20,
     "metadata": {},
     "output_type": "execute_result"
    },
    {
     "data": {
      "image/png": "[encoded data removed]",
      "text/plain": [
       "<Figure size 720x432 with 1 Axes>"
      ]
     },
     "metadata": {
      "needs_background": "light"
     },
     "output_type": "display_data"
    }
   ],
   "source": [
    "x_values = pd.Series(range(0, len(orders['revenue'])))\n",
    "plt.figure(figsize=(10,6))\n",
    "plt.scatter(x_values, orders['revenue'])\n",
    "plt.grid()\n",
    "plt.ylabel('Стоимость')\n",
    "plt.title('Стоимости заказов')"
   ]
  },
  {
   "cell_type": "code",
   "execution_count": 21,
   "metadata": {},
   "outputs": [],
   "source": [
    "#Удалим редкие значения для более эффективного изучения графика\n",
    "orders_1 = orders[orders['revenue'] < 900000]"
   ]
  },
  {
   "cell_type": "code",
   "execution_count": 22,
   "metadata": {},
   "outputs": [
    {
     "data": {
      "text/plain": [
       "Text(0.5, 1.0, 'Стоимости заказов')"
      ]
     },
     "execution_count": 22,
     "metadata": {},
     "output_type": "execute_result"
    },
    {
     "data": {
      "image/png": "[encoded data removed]",
      "text/plain": [
       "<Figure size 720x432 with 1 Axes>"
      ]
     },
     "metadata": {
      "needs_background": "light"
     },
     "output_type": "display_data"
    }
   ],
   "source": [
    "x_values = pd.Series(range(0, len(orders_1['revenue'])))\n",
    "plt.figure(figsize=(10,6))\n",
    "plt.scatter(x_values, orders_1['revenue'])\n",
    "plt.grid()\n",
    "plt.ylabel('Стоимость')\n",
    "plt.title('Стоимости заказов')"
   ]
  },
  {
   "cell_type": "markdown",
   "metadata": {},
   "source": [
    "Вывод: Большиснтво заказов обладают стоимостью, не превышающей 100000. Есть один заказ, о котором писалось выше, который явно выбивается и его стоимость больше 1.2., он был удален, как аномальный во втором графике. Также можно заметить еще один выброс, где стоимость заказа больше 200000."
   ]
  },
  {
   "cell_type": "markdown",
   "metadata": {},
   "source": [
    "***Задача 9 - 95-й и 99-й перцентили стоимости заказов***"
   ]
  },
  {
   "cell_type": "code",
   "execution_count": 23,
   "metadata": {},
   "outputs": [
    {
     "data": {
      "text/plain": [
       "array([28000. , 58233.2])"
      ]
     },
     "execution_count": 23,
     "metadata": {},
     "output_type": "execute_result"
    }
   ],
   "source": [
    "np.percentile(orders['revenue'], [95, 99])"
   ]
  },
  {
   "cell_type": "markdown",
   "metadata": {},
   "source": [
    "Вывод: Только 5% от всех заказов превышают стоимость в 28000 и только 1% превышает 58233.2. Это явные выбросы"
   ]
  },
  {
   "cell_type": "markdown",
   "metadata": {},
   "source": [
    "***Задача 10 - статистическая значимость различий в среднем количестве заказов на посетителя между группами по «сырым» данным***"
   ]
  },
  {
   "cell_type": "markdown",
   "metadata": {},
   "source": [
    "Гипотезы:\n",
    "\n",
    "H0: различий в среднем количестве заказов между группами нет.\n",
    "\n",
    "H1: различия в среднем между группами есть."
   ]
  },
  {
   "cell_type": "code",
   "execution_count": 24,
   "metadata": {},
   "outputs": [
    {
     "name": "stdout",
     "output_type": "stream",
     "text": [
      "0.01679\n",
      "0.138\n"
     ]
    }
   ],
   "source": [
    "visitorsADaily = visitors[visitors['group'] == 'A'][['date', 'visitors']]\n",
    "visitorsADaily.columns = ['date', 'visitorsPerDateA']\n",
    "\n",
    "visitorsACummulative = visitorsADaily.apply(\n",
    "    lambda x: visitorsADaily[visitorsADaily['date'] <= x['date']].agg(\n",
    "        {'date': 'max', 'visitorsPerDateA': 'sum'}\n",
    "    ),\n",
    "    axis=1,\n",
    ")\n",
    "visitorsACummulative.columns = ['date', 'visitorsCummulativeA']\n",
    "\n",
    "visitorsBDaily = visitors[visitors['group'] == 'B'][['date', 'visitors']]\n",
    "visitorsBDaily.columns = ['date', 'visitorsPerDateB']\n",
    "\n",
    "visitorsBCummulative = visitorsBDaily.apply(\n",
    "    lambda x: visitorsBDaily[visitorsBDaily['date'] <= x['date']].agg(\n",
    "        {'date': 'max', 'visitorsPerDateB': 'sum'}\n",
    "    ),\n",
    "    axis=1,\n",
    ")\n",
    "visitorsBCummulative.columns = ['date', 'visitorsCummulativeB']\n",
    "\n",
    "ordersADaily = (\n",
    "    orders[orders['group'] == 'A'][['date', 'transactionId', 'visitorId', 'revenue']]\n",
    "    .groupby('date', as_index=False)\n",
    "    .agg({'transactionId': pd.Series.nunique, 'revenue': 'sum'})\n",
    ")\n",
    "ordersADaily.columns = ['date', 'ordersPerDateA', 'revenuePerDateA']\n",
    "\n",
    "ordersACummulative = ordersADaily.apply(\n",
    "    lambda x: ordersADaily[ordersADaily['date'] <= x['date']].agg(\n",
    "        {'date': 'max', 'ordersPerDateA': 'sum', 'revenuePerDateA': 'sum'}\n",
    "    ),\n",
    "    axis=1,\n",
    ").sort_values(by=['date'])\n",
    "ordersACummulative.columns = [\n",
    "    'date',\n",
    "    'ordersCummulativeA',\n",
    "    'revenueCummulativeA',\n",
    "]\n",
    "\n",
    "ordersBDaily = (\n",
    "    orders[orders['group'] == 'B'][['date', 'transactionId', 'visitorId', 'revenue']]\n",
    "    .groupby('date', as_index=False)\n",
    "    .agg({'transactionId': pd.Series.nunique, 'revenue': 'sum'})\n",
    ")\n",
    "ordersBDaily.columns = ['date', 'ordersPerDateB', 'revenuePerDateB']\n",
    "\n",
    "ordersBCummulative = ordersBDaily.apply(\n",
    "    lambda x: ordersBDaily[ordersBDaily['date'] <= x['date']].agg(\n",
    "        {'date': 'max', 'ordersPerDateB': 'sum', 'revenuePerDateB': 'sum'}\n",
    "    ),\n",
    "    axis=1,\n",
    ").sort_values(by=['date'])\n",
    "ordersBCummulative.columns = [\n",
    "    'date',\n",
    "    'ordersCummulativeB',\n",
    "    'revenueCummulativeB',\n",
    "]\n",
    "\n",
    "data = (\n",
    "    ordersADaily.merge(\n",
    "        ordersBDaily, left_on='date', right_on='date', how='left'\n",
    "    )\n",
    "    .merge(ordersACummulative, left_on='date', right_on='date', how='left')\n",
    "    .merge(ordersBCummulative, left_on='date', right_on='date', how='left')\n",
    "    .merge(visitorsADaily, left_on='date', right_on='date', how='left')\n",
    "    .merge(visitorsBDaily, left_on='date', right_on='date', how='left')\n",
    "    .merge(visitorsACummulative, left_on='date', right_on='date', how='left')\n",
    "    .merge(visitorsBCummulative, left_on='date', right_on='date', how='left')\n",
    ")\n",
    "\n",
    "ordersByUsersA = (\n",
    "    orders[orders['group'] == 'A']\n",
    "    .groupby('visitorId', as_index=False)\n",
    "    .agg({'transactionId': pd.Series.nunique})\n",
    ")\n",
    "ordersByUsersA.columns = ['visitorId', 'orders']\n",
    "\n",
    "ordersByUsersB = (\n",
    "    orders[orders['group'] == 'B']\n",
    "    .groupby('visitorId', as_index=False)\n",
    "    .agg({'transactionId': pd.Series.nunique})\n",
    ")\n",
    "ordersByUsersB.columns = ['visitorId', 'orders'] \n",
    "\n",
    "sampleA = pd.concat([ordersByUsersA['orders'],pd.Series(0, index=np.arange(data['visitorsPerDateA'].sum() - len(ordersByUsersA['orders'])), name='orders')],axis=0)\n",
    "\n",
    "sampleB = pd.concat([ordersByUsersB['orders'],pd.Series(0, index=np.arange(data['visitorsPerDateB'].sum() - len(ordersByUsersB['orders'])), name='orders')],axis=0)\n",
    "\n",
    "\n",
    "print(\"{0:.5f}\".format(stats.mannwhitneyu(sampleA, sampleB)[1]))\n",
    "print(\"{0:.3f}\".format((data['ordersPerDateB'].sum()/data['visitorsPerDateB'].sum())/(data['ordersPerDateA'].sum()/data['visitorsPerDateA'].sum())-1))"
   ]
  },
  {
   "cell_type": "markdown",
   "metadata": {},
   "source": [
    "Вывод: значение p-value сильно меньше 0.05, значит нулевую гипотезу о том, что статистически значимых различий в среднем числе заказов между группами нет, отвергаем. По анализу сырых данных можно сделать вывод, что в среднем количестве заказов между группами есть статистически значимые различия. Относительный прирост среднего группы В к конверсии группы А равен 13,8%."
   ]
  },
  {
   "cell_type": "markdown",
   "metadata": {},
   "source": [
    "***Задача 11 - статистическая значимость различий в среднем чеке заказа между группами по «сырым» данным***"
   ]
  },
  {
   "cell_type": "markdown",
   "metadata": {},
   "source": [
    "Гипотезы:\n",
    "\n",
    "H0: различий в среднем чеке заказа между группами нет.\n",
    "\n",
    "H1: различия в среднем между группами есть."
   ]
  },
  {
   "cell_type": "code",
   "execution_count": 25,
   "metadata": {},
   "outputs": [
    {
     "name": "stdout",
     "output_type": "stream",
     "text": [
      "0.729\n",
      "0.259\n"
     ]
    }
   ],
   "source": [
    "print('{0:.3f}'.format(stats.mannwhitneyu(orders[orders['group']=='A']['revenue'], orders[orders['group']=='B']['revenue'])[1]))\n",
    "print('{0:.3f}'.format(orders[orders['group']=='B']['revenue'].mean()/orders[orders['group']=='A']['revenue'].mean()-1)) "
   ]
  },
  {
   "cell_type": "markdown",
   "metadata": {},
   "source": [
    "Вывод: p-value значительно больше 0.05, значит, причин отвергать нулевую гипотезу и считать, что в среднем чеке есть различия, нет. Однако, средний чек группы B выше среднего чека группы A на 25,9%."
   ]
  },
  {
   "cell_type": "markdown",
   "metadata": {},
   "source": [
    "***Задача 12 - статистическая значимость различий в среднем количестве заказов на посетителя между группами по «очищенным» данным***"
   ]
  },
  {
   "cell_type": "markdown",
   "metadata": {},
   "source": [
    "В предыдущих задачах были найдены 95-й и 99-й перцентили количества заказов:\n",
    "95 - 2\n",
    "99 - 4\n",
    "\n",
    "А перцентили стоимости заказа были следующими:\n",
    "95 - 28000\n",
    "99 - 58233.2\n",
    "\n",
    "Для анализа по \"очищенным\" данным необходимо убрать аномальные значения. Пусть анамольными пользоватлеями считаются те, кто совершил больше 2х заказов, где стоимость заказа не превышает 58233.2. \n",
    "\n",
    "Посчитаем количество аномальных пользователей.\n"
   ]
  },
  {
   "cell_type": "code",
   "execution_count": 26,
   "metadata": {},
   "outputs": [
    {
     "name": "stdout",
     "output_type": "stream",
     "text": [
      "1099    148427295\n",
      "18      199603092\n",
      "23      237748145\n",
      "37      249864742\n",
      "68      457167155\n",
      "Name: visitorId, dtype: int64\n",
      "31\n"
     ]
    }
   ],
   "source": [
    "usersWithManyOrders = pd.concat(\n",
    "    [\n",
    "        ordersByUsersA[ordersByUsersA['orders'] > 2]['visitorId'],\n",
    "        ordersByUsersB[ordersByUsersB['orders'] > 2]['visitorId'],\n",
    "    ],\n",
    "    axis=0,\n",
    ")\n",
    "usersWithExpensiveOrders = orders[orders['revenue'] > 58233.2]['visitorId']\n",
    "abnormalUsers = (\n",
    "    pd.concat([usersWithManyOrders, usersWithExpensiveOrders], axis=0)\n",
    "    .drop_duplicates()\n",
    "    .sort_values()\n",
    ")\n",
    "print(abnormalUsers.head(5))\n",
    "print(abnormalUsers.shape[0]) "
   ]
  },
  {
   "cell_type": "markdown",
   "metadata": {},
   "source": [
    "Количество аномальных пользователей - 31 человек. Узнаем, как их действия повлияли на результаты теста. Посчитаем статистическую значимость различий в среднем количестве заказов между группами теста по очищенным данным. "
   ]
  },
  {
   "cell_type": "code",
   "execution_count": 27,
   "metadata": {},
   "outputs": [
    {
     "name": "stdout",
     "output_type": "stream",
     "text": [
      "0.010\n",
      "0.174\n"
     ]
    }
   ],
   "source": [
    "sampleAFiltered = pd.concat(\n",
    "    [\n",
    "        ordersByUsersA[\n",
    "            np.logical_not(ordersByUsersA['visitorId'].isin(abnormalUsers))\n",
    "        ]['orders'],\n",
    "        pd.Series(\n",
    "            0,\n",
    "            index=np.arange(\n",
    "                data['visitorsPerDateA'].sum() - len(ordersByUsersA['orders'])\n",
    "            ),\n",
    "            name='orders',\n",
    "        ),\n",
    "    ],\n",
    "    axis=0,\n",
    ")\n",
    "\n",
    "sampleBFiltered = pd.concat(\n",
    "    [\n",
    "        ordersByUsersB[\n",
    "            np.logical_not(ordersByUsersB['visitorId'].isin(abnormalUsers))\n",
    "        ]['orders'],\n",
    "        pd.Series(\n",
    "            0,\n",
    "            index=np.arange(\n",
    "                data['visitorsPerDateB'].sum() - len(ordersByUsersB['orders'])\n",
    "            ),\n",
    "            name='orders',\n",
    "        ),\n",
    "    ],\n",
    "    axis=0,\n",
    ") \n",
    "\n",
    "print('{0:.3f}'.format(stats.mannwhitneyu(sampleAFiltered, sampleBFiltered)[1]))\n",
    "print('{0:.3f}'.format(sampleBFiltered.mean()/sampleAFiltered.mean()-1)) "
   ]
  },
  {
   "cell_type": "markdown",
   "metadata": {},
   "source": [
    "Вывод: p-value меньше 0.05, значит нулевую гипотезу отвергаем. То есть между группами А и В есть статистические различия по среднему количеству заказов на посетителя. При этом относительный прирост В к А увеличился по сравнению с необработанными данными на 3.6% (17.4% - 13.8%). "
   ]
  },
  {
   "cell_type": "markdown",
   "metadata": {},
   "source": [
    "***Задача 13 - статистическая значимость различий в среднем чеке заказа между группами по «очищенным» данным***"
   ]
  },
  {
   "cell_type": "code",
   "execution_count": 28,
   "metadata": {},
   "outputs": [
    {
     "name": "stdout",
     "output_type": "stream",
     "text": [
      "0.798\n",
      "-0.020\n"
     ]
    }
   ],
   "source": [
    "print(\n",
    "    '{0:.3f}'.format(\n",
    "        stats.mannwhitneyu(\n",
    "            orders[\n",
    "                np.logical_and(\n",
    "                    orders['group'] == 'A',\n",
    "                    np.logical_not(orders['visitorId'].isin(abnormalUsers)),\n",
    "                )\n",
    "            ]['revenue'],\n",
    "            orders[\n",
    "                np.logical_and(\n",
    "                    orders['group'] == 'B',\n",
    "                    np.logical_not(orders['visitorId'].isin(abnormalUsers)),\n",
    "                )\n",
    "            ]['revenue'],\n",
    "        )[1]\n",
    "    )\n",
    ")\n",
    "\n",
    "print(\n",
    "    \"{0:.3f}\".format(\n",
    "        orders[\n",
    "            np.logical_and(\n",
    "                orders['group'] == 'B',\n",
    "                np.logical_not(orders['visitorId'].isin(abnormalUsers)),\n",
    "            )\n",
    "        ]['revenue'].mean()\n",
    "        / orders[\n",
    "            np.logical_and(\n",
    "                orders['group'] == 'A',\n",
    "                np.logical_not(orders['visitorId'].isin(abnormalUsers)),\n",
    "            )\n",
    "        ]['revenue'].mean()\n",
    "        - 1\n",
    "    )\n",
    ") \n"
   ]
  },
  {
   "cell_type": "markdown",
   "metadata": {},
   "source": [
    "Вывод: p-value значительно больше 0.5, значит, причин отвергать нулевую гипотезу и считать, что в среднем чеке есть различия, нет. Однако средний чек заказа группы В уступает среднему чеку группы А на 2%. Что сильно отличается от анализа данных с аномальными значениями, т.к. в том случае прирост В был больше А на 25,9%. Очевидно, такая перемена объясняется исключением аномальных значений, в частности пользователя с заказом, превышающим 1 млн, о котором говорилось выше, он сильно влиял на общий массив данных."
   ]
  },
  {
   "cell_type": "markdown",
   "metadata": {},
   "source": [
    "***Задача 14 -  решение по результатам теста***"
   ]
  },
  {
   "cell_type": "markdown",
   "metadata": {},
   "source": [
    "По результатам теста можно прийти к выводу, что пора остановливать тестирование и признать победу группы В, т.к. конверсия группы В выше, чем у группы А, при чем как в сырых, так и очищенных от аномалий данных. В первом случае прирост конверсии составляет 13,8%, а во втором 17,4%. Хотя различий в среднем чеке заказа в двух группах практически нет. Средний чек заказа группы В уступает среднему чеку группы А всего на 2%"
   ]
  },
  {
   "cell_type": "markdown",
   "metadata": {},
   "source": [
    "***Общий вывод***"
   ]
  },
  {
   "cell_type": "markdown",
   "metadata": {},
   "source": [
    "Были рассмотрены данные интернет-магазина с информацией о заказах и пользователях, их совершивших. Также были изучены гипотезы по увеличению выручки магазина. Данные были обработаны, приведены к нужному типу, проверены на пропуски и дубликаты. \n",
    "\n",
    "Далее была проанализирована приоритизация гипотез, был проведен А/В анализ, в результате которого был принят вариант горуппы B, т.к. конверсия этой группы явно превышает конверсию группы А.\n",
    "\n",
    "Цель проекта была достигнута, решение принято на основе проведенного A/В теста."
   ]
  }
 ],
 "metadata": {
  "ExecuteTimeLog": [
   {
    "duration": 56,
    "start_time": "2023-02-21T13:19:27.031Z"
   },
   {
    "duration": 422,
    "start_time": "2023-02-21T13:19:29.979Z"
   },
   {
    "duration": 91,
    "start_time": "2023-02-21T13:19:30.403Z"
   },
   {
    "duration": 32,
    "start_time": "2023-02-21T13:20:27.936Z"
   },
   {
    "duration": 88,
    "start_time": "2023-02-21T13:23:21.431Z"
   },
   {
    "duration": 51,
    "start_time": "2023-02-21T13:31:55.044Z"
   },
   {
    "duration": 13,
    "start_time": "2023-02-21T13:32:21.913Z"
   },
   {
    "duration": 13,
    "start_time": "2023-02-21T13:37:31.978Z"
   },
   {
    "duration": 10,
    "start_time": "2023-02-21T13:47:47.916Z"
   },
   {
    "duration": 967,
    "start_time": "2023-02-21T14:01:40.347Z"
   },
   {
    "duration": 31,
    "start_time": "2023-02-21T14:03:38.084Z"
   },
   {
    "duration": 33,
    "start_time": "2023-02-21T14:04:09.388Z"
   },
   {
    "duration": 9,
    "start_time": "2023-02-21T14:05:46.696Z"
   },
   {
    "duration": 63,
    "start_time": "2023-02-21T14:22:23.317Z"
   },
   {
    "duration": 163,
    "start_time": "2023-02-21T14:24:19.375Z"
   },
   {
    "duration": 14,
    "start_time": "2023-02-21T14:24:26.254Z"
   },
   {
    "duration": 66,
    "start_time": "2023-02-21T14:24:59.223Z"
   },
   {
    "duration": 31,
    "start_time": "2023-02-21T14:25:01.173Z"
   },
   {
    "duration": 34,
    "start_time": "2023-02-21T14:26:12.836Z"
   },
   {
    "duration": 558,
    "start_time": "2023-02-21T14:27:05.585Z"
   },
   {
    "duration": 305,
    "start_time": "2023-02-21T14:29:08.958Z"
   },
   {
    "duration": 420,
    "start_time": "2023-02-21T14:32:01.333Z"
   },
   {
    "duration": 58,
    "start_time": "2023-02-22T07:48:44.708Z"
   },
   {
    "duration": 1336,
    "start_time": "2023-02-22T07:48:50.685Z"
   },
   {
    "duration": 87,
    "start_time": "2023-02-22T07:48:52.023Z"
   },
   {
    "duration": 10,
    "start_time": "2023-02-22T07:48:52.112Z"
   },
   {
    "duration": 8,
    "start_time": "2023-02-22T07:48:52.124Z"
   },
   {
    "duration": 152,
    "start_time": "2023-02-22T07:48:52.134Z"
   },
   {
    "duration": 13,
    "start_time": "2023-02-22T07:48:52.288Z"
   },
   {
    "duration": 542,
    "start_time": "2023-02-22T07:48:52.303Z"
   },
   {
    "duration": 274,
    "start_time": "2023-02-22T07:48:52.847Z"
   },
   {
    "duration": 369,
    "start_time": "2023-02-22T07:48:53.123Z"
   },
   {
    "duration": 16,
    "start_time": "2023-02-22T07:49:06.845Z"
   },
   {
    "duration": 24,
    "start_time": "2023-02-22T07:49:33.440Z"
   },
   {
    "duration": 3,
    "start_time": "2023-02-22T07:53:08.033Z"
   },
   {
    "duration": 84,
    "start_time": "2023-02-22T07:53:40.080Z"
   },
   {
    "duration": 392,
    "start_time": "2023-02-22T07:54:41.336Z"
   },
   {
    "duration": 28,
    "start_time": "2023-02-22T07:55:42.455Z"
   },
   {
    "duration": 464,
    "start_time": "2023-02-22T07:56:12.506Z"
   },
   {
    "duration": 16,
    "start_time": "2023-02-22T07:56:59.144Z"
   },
   {
    "duration": 493,
    "start_time": "2023-02-22T07:57:17.265Z"
   },
   {
    "duration": 4,
    "start_time": "2023-02-22T07:57:40.128Z"
   },
   {
    "duration": 58,
    "start_time": "2023-02-22T07:57:40.135Z"
   },
   {
    "duration": 12,
    "start_time": "2023-02-22T07:57:40.195Z"
   },
   {
    "duration": 18,
    "start_time": "2023-02-22T07:57:40.212Z"
   },
   {
    "duration": 95,
    "start_time": "2023-02-22T07:57:40.233Z"
   },
   {
    "duration": 25,
    "start_time": "2023-02-22T07:57:40.330Z"
   },
   {
    "duration": 368,
    "start_time": "2023-02-22T07:57:40.357Z"
   },
   {
    "duration": 0,
    "start_time": "2023-02-22T07:57:40.728Z"
   },
   {
    "duration": 0,
    "start_time": "2023-02-22T07:57:40.730Z"
   },
   {
    "duration": 0,
    "start_time": "2023-02-22T07:57:40.731Z"
   },
   {
    "duration": 21,
    "start_time": "2023-02-22T07:59:06.274Z"
   },
   {
    "duration": 82,
    "start_time": "2023-02-22T08:00:05.358Z"
   },
   {
    "duration": 514,
    "start_time": "2023-02-22T08:02:02.580Z"
   },
   {
    "duration": 608,
    "start_time": "2023-02-22T08:02:22.101Z"
   },
   {
    "duration": 444,
    "start_time": "2023-02-22T08:02:45.401Z"
   },
   {
    "duration": 435,
    "start_time": "2023-02-22T08:02:54.137Z"
   },
   {
    "duration": 461,
    "start_time": "2023-02-22T08:03:01.046Z"
   },
   {
    "duration": 466,
    "start_time": "2023-02-22T08:05:39.040Z"
   },
   {
    "duration": 438,
    "start_time": "2023-02-22T08:05:58.636Z"
   },
   {
    "duration": 472,
    "start_time": "2023-02-22T08:06:10.916Z"
   },
   {
    "duration": 471,
    "start_time": "2023-02-22T08:06:15.680Z"
   },
   {
    "duration": 412,
    "start_time": "2023-02-22T08:06:59.338Z"
   },
   {
    "duration": 488,
    "start_time": "2023-02-22T08:07:56.345Z"
   },
   {
    "duration": 456,
    "start_time": "2023-02-22T08:08:11.423Z"
   },
   {
    "duration": 419,
    "start_time": "2023-02-22T08:08:23.199Z"
   },
   {
    "duration": 482,
    "start_time": "2023-02-22T08:08:42.843Z"
   },
   {
    "duration": 426,
    "start_time": "2023-02-22T08:08:48.152Z"
   },
   {
    "duration": 447,
    "start_time": "2023-02-22T08:08:58.597Z"
   },
   {
    "duration": 450,
    "start_time": "2023-02-22T08:09:04.304Z"
   },
   {
    "duration": 544,
    "start_time": "2023-02-22T08:09:12.098Z"
   },
   {
    "duration": 17,
    "start_time": "2023-02-22T08:13:34.538Z"
   },
   {
    "duration": 16,
    "start_time": "2023-02-22T08:14:28.827Z"
   },
   {
    "duration": 186,
    "start_time": "2023-02-22T08:17:00.158Z"
   },
   {
    "duration": 191,
    "start_time": "2023-02-22T08:17:14.729Z"
   },
   {
    "duration": 236,
    "start_time": "2023-02-22T08:19:26.642Z"
   },
   {
    "duration": 262,
    "start_time": "2023-02-22T08:21:18.028Z"
   },
   {
    "duration": 342,
    "start_time": "2023-02-22T08:21:36.883Z"
   },
   {
    "duration": 244,
    "start_time": "2023-02-22T08:21:48.645Z"
   },
   {
    "duration": 197,
    "start_time": "2023-02-22T08:27:55.333Z"
   },
   {
    "duration": 192,
    "start_time": "2023-02-22T08:28:26.582Z"
   },
   {
    "duration": 196,
    "start_time": "2023-02-22T08:30:06.412Z"
   },
   {
    "duration": 329,
    "start_time": "2023-02-22T08:33:04.388Z"
   },
   {
    "duration": 281,
    "start_time": "2023-02-22T08:33:18.449Z"
   },
   {
    "duration": 406,
    "start_time": "2023-02-22T08:33:42.365Z"
   },
   {
    "duration": 343,
    "start_time": "2023-02-22T08:33:52.970Z"
   },
   {
    "duration": 339,
    "start_time": "2023-02-22T08:34:43.624Z"
   },
   {
    "duration": 281,
    "start_time": "2023-02-22T08:34:54.746Z"
   },
   {
    "duration": 9,
    "start_time": "2023-02-22T08:42:27.148Z"
   },
   {
    "duration": 314,
    "start_time": "2023-02-22T08:43:27.664Z"
   },
   {
    "duration": 303,
    "start_time": "2023-02-22T08:44:24.933Z"
   },
   {
    "duration": 550,
    "start_time": "2023-02-22T08:45:58.153Z"
   },
   {
    "duration": 306,
    "start_time": "2023-02-22T08:46:08.748Z"
   },
   {
    "duration": 133,
    "start_time": "2023-02-22T08:47:29.257Z"
   },
   {
    "duration": 140,
    "start_time": "2023-02-22T08:47:39.207Z"
   },
   {
    "duration": 137,
    "start_time": "2023-02-22T08:47:44.781Z"
   },
   {
    "duration": 5,
    "start_time": "2023-02-22T08:51:27.479Z"
   },
   {
    "duration": 147,
    "start_time": "2023-02-22T08:58:40.520Z"
   },
   {
    "duration": 138,
    "start_time": "2023-02-22T08:59:04.730Z"
   },
   {
    "duration": 142,
    "start_time": "2023-02-22T08:59:11.150Z"
   },
   {
    "duration": 140,
    "start_time": "2023-02-22T08:59:26.317Z"
   },
   {
    "duration": 8,
    "start_time": "2023-02-22T09:03:52.264Z"
   },
   {
    "duration": 4,
    "start_time": "2023-02-22T09:04:06.507Z"
   },
   {
    "duration": 4,
    "start_time": "2023-02-22T09:08:28.059Z"
   },
   {
    "duration": 4,
    "start_time": "2023-02-22T09:08:48.828Z"
   },
   {
    "duration": 132,
    "start_time": "2023-02-22T09:09:01.632Z"
   },
   {
    "duration": 5,
    "start_time": "2023-02-22T09:09:09.897Z"
   },
   {
    "duration": 117,
    "start_time": "2023-02-22T09:09:10.385Z"
   },
   {
    "duration": 4,
    "start_time": "2023-02-22T09:09:25.936Z"
   },
   {
    "duration": 117,
    "start_time": "2023-02-22T09:09:27.998Z"
   },
   {
    "duration": 3,
    "start_time": "2023-02-22T09:09:31.480Z"
   },
   {
    "duration": 37,
    "start_time": "2023-02-22T09:09:31.484Z"
   },
   {
    "duration": 8,
    "start_time": "2023-02-22T09:09:31.523Z"
   },
   {
    "duration": 18,
    "start_time": "2023-02-22T09:09:31.532Z"
   },
   {
    "duration": 53,
    "start_time": "2023-02-22T09:09:31.552Z"
   },
   {
    "duration": 17,
    "start_time": "2023-02-22T09:09:31.607Z"
   },
   {
    "duration": 19,
    "start_time": "2023-02-22T09:09:31.626Z"
   },
   {
    "duration": 511,
    "start_time": "2023-02-22T09:09:31.647Z"
   },
   {
    "duration": 13,
    "start_time": "2023-02-22T09:09:32.159Z"
   },
   {
    "duration": 309,
    "start_time": "2023-02-22T09:09:32.173Z"
   },
   {
    "duration": 310,
    "start_time": "2023-02-22T09:09:32.485Z"
   },
   {
    "duration": 218,
    "start_time": "2023-02-22T09:09:32.803Z"
   },
   {
    "duration": 340,
    "start_time": "2023-02-22T09:09:33.023Z"
   },
   {
    "duration": 141,
    "start_time": "2023-02-22T09:09:33.364Z"
   },
   {
    "duration": 6,
    "start_time": "2023-02-22T09:09:33.507Z"
   },
   {
    "duration": 185,
    "start_time": "2023-02-22T09:09:33.515Z"
   },
   {
    "duration": 5,
    "start_time": "2023-02-22T09:09:33.703Z"
   },
   {
    "duration": 180,
    "start_time": "2023-02-22T09:09:33.711Z"
   },
   {
    "duration": 5,
    "start_time": "2023-02-22T09:09:33.892Z"
   },
   {
    "duration": 13,
    "start_time": "2023-02-22T09:12:02.960Z"
   },
   {
    "duration": 4,
    "start_time": "2023-02-22T09:12:06.519Z"
   },
   {
    "duration": 196,
    "start_time": "2023-02-22T09:12:07.033Z"
   },
   {
    "duration": 5,
    "start_time": "2023-02-22T09:12:25.525Z"
   },
   {
    "duration": 6,
    "start_time": "2023-02-22T09:12:27.968Z"
   },
   {
    "duration": 3,
    "start_time": "2023-02-22T09:12:31.835Z"
   },
   {
    "duration": 37,
    "start_time": "2023-02-22T09:12:31.840Z"
   },
   {
    "duration": 9,
    "start_time": "2023-02-22T09:12:31.878Z"
   },
   {
    "duration": 13,
    "start_time": "2023-02-22T09:12:31.889Z"
   },
   {
    "duration": 63,
    "start_time": "2023-02-22T09:12:31.905Z"
   },
   {
    "duration": 18,
    "start_time": "2023-02-22T09:12:31.970Z"
   },
   {
    "duration": 17,
    "start_time": "2023-02-22T09:12:31.990Z"
   },
   {
    "duration": 482,
    "start_time": "2023-02-22T09:12:32.009Z"
   },
   {
    "duration": 21,
    "start_time": "2023-02-22T09:12:32.493Z"
   },
   {
    "duration": 236,
    "start_time": "2023-02-22T09:12:32.516Z"
   },
   {
    "duration": 302,
    "start_time": "2023-02-22T09:12:32.753Z"
   },
   {
    "duration": 214,
    "start_time": "2023-02-22T09:12:33.057Z"
   },
   {
    "duration": 347,
    "start_time": "2023-02-22T09:12:33.272Z"
   },
   {
    "duration": 144,
    "start_time": "2023-02-22T09:12:33.621Z"
   },
   {
    "duration": 4,
    "start_time": "2023-02-22T09:12:33.767Z"
   },
   {
    "duration": 143,
    "start_time": "2023-02-22T09:12:33.772Z"
   },
   {
    "duration": 4,
    "start_time": "2023-02-22T09:12:33.916Z"
   },
   {
    "duration": 162,
    "start_time": "2023-02-22T09:12:33.921Z"
   },
   {
    "duration": 20,
    "start_time": "2023-02-22T09:12:34.085Z"
   },
   {
    "duration": 227,
    "start_time": "2023-02-22T09:17:58.587Z"
   },
   {
    "duration": 118,
    "start_time": "2023-02-22T09:20:10.687Z"
   },
   {
    "duration": 329,
    "start_time": "2023-02-22T09:21:10.348Z"
   },
   {
    "duration": 328,
    "start_time": "2023-02-22T09:23:13.337Z"
   },
   {
    "duration": 3,
    "start_time": "2023-02-22T09:23:56.260Z"
   },
   {
    "duration": 363,
    "start_time": "2023-02-22T09:24:00.599Z"
   },
   {
    "duration": 377,
    "start_time": "2023-02-22T09:24:55.385Z"
   },
   {
    "duration": 14,
    "start_time": "2023-02-22T09:34:17.325Z"
   },
   {
    "duration": 1444,
    "start_time": "2023-02-22T09:51:06.663Z"
   },
   {
    "duration": 9,
    "start_time": "2023-02-22T09:51:30.635Z"
   },
   {
    "duration": 27,
    "start_time": "2023-02-22T09:54:28.812Z"
   },
   {
    "duration": 13,
    "start_time": "2023-02-22T09:58:28.868Z"
   },
   {
    "duration": 1148,
    "start_time": "2023-02-22T15:31:37.425Z"
   },
   {
    "duration": 30,
    "start_time": "2023-02-22T15:31:38.575Z"
   },
   {
    "duration": 8,
    "start_time": "2023-02-22T15:31:38.606Z"
   },
   {
    "duration": 10,
    "start_time": "2023-02-22T15:31:38.616Z"
   },
   {
    "duration": 43,
    "start_time": "2023-02-22T15:31:38.628Z"
   },
   {
    "duration": 15,
    "start_time": "2023-02-22T15:31:38.673Z"
   },
   {
    "duration": 17,
    "start_time": "2023-02-22T15:31:38.690Z"
   },
   {
    "duration": 521,
    "start_time": "2023-02-22T15:31:38.709Z"
   },
   {
    "duration": 13,
    "start_time": "2023-02-22T15:31:39.232Z"
   },
   {
    "duration": 199,
    "start_time": "2023-02-22T15:31:39.254Z"
   },
   {
    "duration": 300,
    "start_time": "2023-02-22T15:31:39.455Z"
   },
   {
    "duration": 210,
    "start_time": "2023-02-22T15:31:39.758Z"
   },
   {
    "duration": 310,
    "start_time": "2023-02-22T15:31:39.969Z"
   },
   {
    "duration": 136,
    "start_time": "2023-02-22T15:31:40.281Z"
   },
   {
    "duration": 5,
    "start_time": "2023-02-22T15:31:40.418Z"
   },
   {
    "duration": 157,
    "start_time": "2023-02-22T15:31:40.425Z"
   },
   {
    "duration": 4,
    "start_time": "2023-02-22T15:31:40.584Z"
   },
   {
    "duration": 168,
    "start_time": "2023-02-22T15:31:40.589Z"
   },
   {
    "duration": 5,
    "start_time": "2023-02-22T15:31:40.759Z"
   },
   {
    "duration": 451,
    "start_time": "2023-02-22T15:31:40.765Z"
   },
   {
    "duration": 11,
    "start_time": "2023-02-22T15:31:41.218Z"
   },
   {
    "duration": 27,
    "start_time": "2023-02-22T15:31:41.230Z"
   },
   {
    "duration": 27,
    "start_time": "2023-02-22T15:31:41.259Z"
   },
   {
    "duration": 13,
    "start_time": "2023-02-22T15:31:41.287Z"
   },
   {
    "duration": 1124,
    "start_time": "2023-02-22T17:12:33.366Z"
   },
   {
    "duration": 30,
    "start_time": "2023-02-22T17:12:34.492Z"
   },
   {
    "duration": 11,
    "start_time": "2023-02-22T17:12:34.524Z"
   },
   {
    "duration": 8,
    "start_time": "2023-02-22T17:12:34.537Z"
   },
   {
    "duration": 47,
    "start_time": "2023-02-22T17:12:34.546Z"
   },
   {
    "duration": 17,
    "start_time": "2023-02-22T17:12:34.595Z"
   },
   {
    "duration": 22,
    "start_time": "2023-02-22T17:12:34.613Z"
   },
   {
    "duration": 537,
    "start_time": "2023-02-22T17:12:34.637Z"
   },
   {
    "duration": 12,
    "start_time": "2023-02-22T17:12:35.176Z"
   },
   {
    "duration": 195,
    "start_time": "2023-02-22T17:12:35.191Z"
   },
   {
    "duration": 289,
    "start_time": "2023-02-22T17:12:35.387Z"
   },
   {
    "duration": 225,
    "start_time": "2023-02-22T17:12:35.678Z"
   },
   {
    "duration": 303,
    "start_time": "2023-02-22T17:12:35.905Z"
   },
   {
    "duration": 136,
    "start_time": "2023-02-22T17:12:36.210Z"
   },
   {
    "duration": 9,
    "start_time": "2023-02-22T17:12:36.348Z"
   },
   {
    "duration": 161,
    "start_time": "2023-02-22T17:12:36.359Z"
   },
   {
    "duration": 5,
    "start_time": "2023-02-22T17:12:36.522Z"
   },
   {
    "duration": 176,
    "start_time": "2023-02-22T17:12:36.528Z"
   },
   {
    "duration": 6,
    "start_time": "2023-02-22T17:12:36.705Z"
   },
   {
    "duration": 454,
    "start_time": "2023-02-22T17:12:36.712Z"
   },
   {
    "duration": 11,
    "start_time": "2023-02-22T17:12:37.168Z"
   },
   {
    "duration": 9,
    "start_time": "2023-02-22T17:12:37.180Z"
   },
   {
    "duration": 28,
    "start_time": "2023-02-22T17:12:37.191Z"
   },
   {
    "duration": 39,
    "start_time": "2023-02-22T17:12:37.221Z"
   },
   {
    "duration": 13,
    "start_time": "2023-02-22T17:50:29.226Z"
   },
   {
    "duration": 16,
    "start_time": "2023-02-22T17:53:09.161Z"
   },
   {
    "duration": 55,
    "start_time": "2023-02-22T19:46:21.359Z"
   },
   {
    "duration": 1364,
    "start_time": "2023-02-22T19:46:30.055Z"
   },
   {
    "duration": 62,
    "start_time": "2023-02-22T19:46:33.830Z"
   },
   {
    "duration": 36,
    "start_time": "2023-02-22T19:46:43.948Z"
   },
   {
    "duration": 21,
    "start_time": "2023-02-22T19:47:02.326Z"
   },
   {
    "duration": 3,
    "start_time": "2023-02-22T19:47:18.883Z"
   },
   {
    "duration": 49,
    "start_time": "2023-02-22T19:47:18.888Z"
   },
   {
    "duration": 8,
    "start_time": "2023-02-22T19:47:18.939Z"
   },
   {
    "duration": 12,
    "start_time": "2023-02-22T19:47:18.948Z"
   },
   {
    "duration": 186,
    "start_time": "2023-02-22T19:47:18.962Z"
   },
   {
    "duration": 20,
    "start_time": "2023-02-22T19:47:19.150Z"
   },
   {
    "duration": 14,
    "start_time": "2023-02-22T19:47:19.172Z"
   },
   {
    "duration": 649,
    "start_time": "2023-02-22T19:47:19.188Z"
   },
   {
    "duration": 15,
    "start_time": "2023-02-22T19:47:19.839Z"
   },
   {
    "duration": 237,
    "start_time": "2023-02-22T19:47:19.855Z"
   },
   {
    "duration": 372,
    "start_time": "2023-02-22T19:47:20.094Z"
   },
   {
    "duration": 270,
    "start_time": "2023-02-22T19:47:20.469Z"
   },
   {
    "duration": 309,
    "start_time": "2023-02-22T19:47:20.741Z"
   },
   {
    "duration": 164,
    "start_time": "2023-02-22T19:47:21.052Z"
   },
   {
    "duration": 13,
    "start_time": "2023-02-22T19:47:21.218Z"
   },
   {
    "duration": 174,
    "start_time": "2023-02-22T19:47:21.237Z"
   },
   {
    "duration": 10,
    "start_time": "2023-02-22T19:47:21.413Z"
   },
   {
    "duration": 196,
    "start_time": "2023-02-22T19:47:21.424Z"
   },
   {
    "duration": 6,
    "start_time": "2023-02-22T19:47:21.622Z"
   },
   {
    "duration": 463,
    "start_time": "2023-02-22T19:47:21.630Z"
   },
   {
    "duration": 14,
    "start_time": "2023-02-22T19:47:22.095Z"
   },
   {
    "duration": 36,
    "start_time": "2023-02-22T19:47:22.111Z"
   },
   {
    "duration": 30,
    "start_time": "2023-02-22T19:47:22.149Z"
   },
   {
    "duration": 15,
    "start_time": "2023-02-22T19:47:22.180Z"
   },
   {
    "duration": 11,
    "start_time": "2023-02-22T19:47:50.957Z"
   },
   {
    "duration": 7,
    "start_time": "2023-02-22T19:48:35.157Z"
   },
   {
    "duration": 15,
    "start_time": "2023-02-22T19:49:28.295Z"
   },
   {
    "duration": 15,
    "start_time": "2023-02-22T19:49:43.582Z"
   },
   {
    "duration": 7,
    "start_time": "2023-02-22T19:58:34.962Z"
   },
   {
    "duration": 9,
    "start_time": "2023-02-22T19:59:14.018Z"
   },
   {
    "duration": 9,
    "start_time": "2023-02-22T19:59:24.352Z"
   },
   {
    "duration": 7,
    "start_time": "2023-02-22T19:59:48.226Z"
   },
   {
    "duration": 8,
    "start_time": "2023-02-22T20:00:28.055Z"
   },
   {
    "duration": 4,
    "start_time": "2023-02-22T20:01:47.186Z"
   },
   {
    "duration": 4,
    "start_time": "2023-02-22T20:02:24.634Z"
   },
   {
    "duration": 6,
    "start_time": "2023-02-22T20:02:31.845Z"
   },
   {
    "duration": 53,
    "start_time": "2023-02-22T20:05:09.540Z"
   },
   {
    "duration": 462,
    "start_time": "2023-02-22T20:05:33.167Z"
   },
   {
    "duration": 226,
    "start_time": "2023-02-22T20:08:05.454Z"
   },
   {
    "duration": 324,
    "start_time": "2023-02-22T20:09:01.842Z"
   },
   {
    "duration": 216,
    "start_time": "2023-02-22T20:09:09.202Z"
   },
   {
    "duration": 522,
    "start_time": "2023-02-22T20:09:23.251Z"
   },
   {
    "duration": 255,
    "start_time": "2023-02-22T20:10:16.664Z"
   },
   {
    "duration": 222,
    "start_time": "2023-02-22T20:10:25.126Z"
   },
   {
    "duration": 316,
    "start_time": "2023-02-22T20:11:31.558Z"
   },
   {
    "duration": 152,
    "start_time": "2023-02-22T20:14:12.020Z"
   },
   {
    "duration": 150,
    "start_time": "2023-02-22T20:14:30.115Z"
   },
   {
    "duration": 158,
    "start_time": "2023-02-22T20:15:00.110Z"
   },
   {
    "duration": 43,
    "start_time": "2023-02-22T20:16:57.756Z"
   },
   {
    "duration": 1331,
    "start_time": "2023-02-23T11:22:14.530Z"
   },
   {
    "duration": 68,
    "start_time": "2023-02-23T11:22:15.864Z"
   },
   {
    "duration": 14,
    "start_time": "2023-02-23T11:22:15.935Z"
   },
   {
    "duration": 16,
    "start_time": "2023-02-23T11:22:15.952Z"
   },
   {
    "duration": 125,
    "start_time": "2023-02-23T11:22:15.970Z"
   },
   {
    "duration": 26,
    "start_time": "2023-02-23T11:22:16.097Z"
   },
   {
    "duration": 19,
    "start_time": "2023-02-23T11:22:16.126Z"
   },
   {
    "duration": 16,
    "start_time": "2023-02-23T11:22:16.147Z"
   },
   {
    "duration": 11,
    "start_time": "2023-02-23T11:22:16.165Z"
   },
   {
    "duration": 6,
    "start_time": "2023-02-23T11:22:16.180Z"
   },
   {
    "duration": 735,
    "start_time": "2023-02-23T11:22:16.188Z"
   },
   {
    "duration": 19,
    "start_time": "2023-02-23T11:22:16.926Z"
   },
   {
    "duration": 258,
    "start_time": "2023-02-23T11:22:16.947Z"
   },
   {
    "duration": 374,
    "start_time": "2023-02-23T11:22:17.208Z"
   },
   {
    "duration": 319,
    "start_time": "2023-02-23T11:22:17.584Z"
   },
   {
    "duration": 429,
    "start_time": "2023-02-23T11:22:17.905Z"
   },
   {
    "duration": 272,
    "start_time": "2023-02-23T11:22:18.337Z"
   },
   {
    "duration": 19,
    "start_time": "2023-02-23T11:22:18.612Z"
   },
   {
    "duration": 275,
    "start_time": "2023-02-23T11:22:18.633Z"
   },
   {
    "duration": 5,
    "start_time": "2023-02-23T11:22:18.910Z"
   },
   {
    "duration": 260,
    "start_time": "2023-02-23T11:22:18.926Z"
   },
   {
    "duration": 6,
    "start_time": "2023-02-23T11:22:19.188Z"
   },
   {
    "duration": 500,
    "start_time": "2023-02-23T11:22:19.196Z"
   },
   {
    "duration": 29,
    "start_time": "2023-02-23T11:22:19.699Z"
   },
   {
    "duration": 12,
    "start_time": "2023-02-23T11:22:19.732Z"
   },
   {
    "duration": 49,
    "start_time": "2023-02-23T11:22:19.745Z"
   },
   {
    "duration": 18,
    "start_time": "2023-02-23T11:22:19.796Z"
   },
   {
    "duration": 15,
    "start_time": "2023-02-23T11:22:41.579Z"
   },
   {
    "duration": 12,
    "start_time": "2023-02-23T11:22:45.766Z"
   },
   {
    "duration": 16,
    "start_time": "2023-02-23T11:23:00.912Z"
   },
   {
    "duration": 88,
    "start_time": "2023-02-24T09:25:17.228Z"
   },
   {
    "duration": 1505,
    "start_time": "2023-02-24T09:25:22.874Z"
   },
   {
    "duration": 97,
    "start_time": "2023-02-24T09:25:24.385Z"
   },
   {
    "duration": 18,
    "start_time": "2023-02-24T09:25:24.484Z"
   },
   {
    "duration": 17,
    "start_time": "2023-02-24T09:25:24.504Z"
   },
   {
    "duration": 187,
    "start_time": "2023-02-24T09:25:24.524Z"
   },
   {
    "duration": 36,
    "start_time": "2023-02-24T09:25:24.713Z"
   },
   {
    "duration": 39,
    "start_time": "2023-02-24T09:25:24.751Z"
   },
   {
    "duration": 13,
    "start_time": "2023-02-24T09:25:24.793Z"
   },
   {
    "duration": 12,
    "start_time": "2023-02-24T09:25:24.808Z"
   },
   {
    "duration": 10,
    "start_time": "2023-02-24T09:25:24.822Z"
   },
   {
    "duration": 709,
    "start_time": "2023-02-24T09:25:24.834Z"
   },
   {
    "duration": 16,
    "start_time": "2023-02-24T09:25:25.544Z"
   },
   {
    "duration": 249,
    "start_time": "2023-02-24T09:25:25.561Z"
   },
   {
    "duration": 429,
    "start_time": "2023-02-24T09:25:25.813Z"
   },
   {
    "duration": 307,
    "start_time": "2023-02-24T09:25:26.245Z"
   },
   {
    "duration": 330,
    "start_time": "2023-02-24T09:25:26.557Z"
   },
   {
    "duration": 210,
    "start_time": "2023-02-24T09:25:26.889Z"
   },
   {
    "duration": 5,
    "start_time": "2023-02-24T09:25:27.100Z"
   },
   {
    "duration": 186,
    "start_time": "2023-02-24T09:25:27.107Z"
   },
   {
    "duration": 5,
    "start_time": "2023-02-24T09:25:27.294Z"
   },
   {
    "duration": 250,
    "start_time": "2023-02-24T09:25:27.300Z"
   },
   {
    "duration": 11,
    "start_time": "2023-02-24T09:25:27.553Z"
   },
   {
    "duration": 583,
    "start_time": "2023-02-24T09:25:27.568Z"
   },
   {
    "duration": 13,
    "start_time": "2023-02-24T09:25:28.154Z"
   },
   {
    "duration": 10,
    "start_time": "2023-02-24T09:25:28.169Z"
   },
   {
    "duration": 37,
    "start_time": "2023-02-24T09:25:28.181Z"
   },
   {
    "duration": 28,
    "start_time": "2023-02-24T09:25:28.237Z"
   },
   {
    "duration": 12,
    "start_time": "2023-02-24T09:26:42.970Z"
   }
  ],
  "kernelspec": {
   "display_name": "Python 3 (ipykernel)",
   "language": "python",
   "name": "python3"
  },
  "language_info": {
   "codemirror_mode": {
    "name": "ipython",
    "version": 3
   },
   "file_extension": ".py",
   "mimetype": "text/x-python",
   "name": "python",
   "nbconvert_exporter": "python",
   "pygments_lexer": "ipython3",
   "version": "3.10.9"
  },
  "toc": {
   "base_numbering": 1,
   "nav_menu": {},
   "number_sections": true,
   "sideBar": true,
   "skip_h1_title": true,
   "title_cell": "Table of Contents",
   "title_sidebar": "Contents",
   "toc_cell": false,
   "toc_position": {},
   "toc_section_display": true,
   "toc_window_display": false
  }
 },
 "nbformat": 4,
 "nbformat_minor": 2
}
